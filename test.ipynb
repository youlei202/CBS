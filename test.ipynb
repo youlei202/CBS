{
 "cells": [
  {
   "cell_type": "code",
   "execution_count": 1,
   "metadata": {},
   "outputs": [
    {
     "data": {
      "text/plain": [
       "tensor([[1., 0., 1.],\n",
       "        [1., 1., 0.],\n",
       "        [0., 1., 1.],\n",
       "        [1., 1., 1.]])"
      ]
     },
     "execution_count": 1,
     "metadata": {},
     "output_type": "execute_result"
    }
   ],
   "source": [
    "import torch\n",
    "import torch.nn as nn\n",
    "\n",
    "class MaskedLinear(nn.Linear):\n",
    "    def __init__(self, in_features, out_features, bias=True):\n",
    "        super(MaskedLinear, self).__init__(in_features, out_features, bias)\n",
    "        self.register_buffer('weight_mask', torch.ones(out_features, in_features))\n",
    "\n",
    "    def forward(self, input):\n",
    "        masked_weight = self.weight * self.weight_mask\n",
    "        return nn.functional.linear(input, masked_weight, self.bias)\n",
    "\n",
    "# Create a simple model with a masked linear layer\n",
    "model = nn.Sequential(\n",
    "    MaskedLinear(3, 4),\n",
    "    nn.ReLU(),\n",
    "    nn.Linear(4, 2)\n",
    ")\n",
    "\n",
    "# Set a specific weight mask for the masked linear layer\n",
    "new_mask = torch.tensor([\n",
    "    [1, 0, 1],\n",
    "    [1, 1, 0],\n",
    "    [0, 1, 1],\n",
    "    [1, 1, 1]\n",
    "])\n",
    "model[0].weight_mask.copy_(new_mask)"
   ]
  },
  {
   "cell_type": "code",
   "execution_count": 7,
   "metadata": {},
   "outputs": [
    {
     "data": {
      "text/plain": [
       "tensor([[1., 0., 1.],\n",
       "        [1., 1., 0.],\n",
       "        [0., 1., 1.],\n",
       "        [1., 1., 1.]])"
      ]
     },
     "execution_count": 7,
     "metadata": {},
     "output_type": "execute_result"
    }
   ],
   "source": [
    "model[0].weight_mask"
   ]
  },
  {
   "cell_type": "code",
   "execution_count": 16,
   "metadata": {},
   "outputs": [
    {
     "name": "stdout",
     "output_type": "stream",
     "text": [
      "OrderedDict([('hidden.weight', tensor([[-0.0608,  0.0539,  0.5331],\n",
      "        [-0.4810,  0.1233,  0.0555],\n",
      "        [-0.4860,  0.0546,  0.0107],\n",
      "        [-0.2816,  0.4855, -0.0054]])), ('hidden.bias', tensor([ 0.1430,  0.2492, -0.4270,  0.0581])), ('output.weight', tensor([[ 0.3120, -0.1003,  0.1688,  0.1702],\n",
      "        [-0.3985, -0.1890, -0.0265,  0.1303]])), ('output.bias', tensor([0.4874, 0.4113]))])\n"
     ]
    }
   ],
   "source": [
    "import torch\n",
    "import torch.nn as nn\n",
    "\n",
    "class SimpleFeedforward(nn.Module):\n",
    "    def __init__(self, input_size, hidden_size, output_size):\n",
    "        super(SimpleFeedforward, self).__init__()\n",
    "        self.hidden = nn.Linear(input_size, hidden_size)\n",
    "        self.relu = nn.ReLU()\n",
    "        self.output = nn.Linear(hidden_size, output_size)\n",
    "\n",
    "    def forward(self, x):\n",
    "        x = self.hidden(x)\n",
    "        x = self.relu(x)\n",
    "        x = self.output(x)\n",
    "        return x\n",
    "\n",
    "input_size = 3\n",
    "hidden_size = 4\n",
    "output_size = 2\n",
    "\n",
    "model = SimpleFeedforward(input_size, hidden_size, output_size)\n",
    "model_state_dict = model.state_dict()\n",
    "print(model_state_dict)"
   ]
  },
  {
   "cell_type": "code",
   "execution_count": 18,
   "metadata": {},
   "outputs": [
    {
     "data": {
      "text/plain": [
       "[Parameter containing:\n",
       " tensor([[-0.0608,  0.0539,  0.5331],\n",
       "         [-0.4810,  0.1233,  0.0555],\n",
       "         [-0.4860,  0.0546,  0.0107],\n",
       "         [-0.2816,  0.4855, -0.0054]], requires_grad=True),\n",
       " Parameter containing:\n",
       " tensor([ 0.1430,  0.2492, -0.4270,  0.0581], requires_grad=True),\n",
       " Parameter containing:\n",
       " tensor([[ 0.3120, -0.1003,  0.1688,  0.1702],\n",
       "         [-0.3985, -0.1890, -0.0265,  0.1303]], requires_grad=True),\n",
       " Parameter containing:\n",
       " tensor([0.4874, 0.4113], requires_grad=True)]"
      ]
     },
     "execution_count": 18,
     "metadata": {},
     "output_type": "execute_result"
    }
   ],
   "source": [
    "list(model.parameters())"
   ]
  },
  {
   "cell_type": "code",
   "execution_count": 19,
   "metadata": {},
   "outputs": [],
   "source": [
    "import torch.optim as optim\n",
    "optim.SGD(model.parameters(), lr=1e-10).zero_grad()"
   ]
  },
  {
   "cell_type": "code",
   "execution_count": 20,
   "metadata": {},
   "outputs": [
    {
     "data": {
      "text/plain": [
       "[Parameter containing:\n",
       " tensor([[-0.0608,  0.0539,  0.5331],\n",
       "         [-0.4810,  0.1233,  0.0555],\n",
       "         [-0.4860,  0.0546,  0.0107],\n",
       "         [-0.2816,  0.4855, -0.0054]], requires_grad=True),\n",
       " Parameter containing:\n",
       " tensor([ 0.1430,  0.2492, -0.4270,  0.0581], requires_grad=True),\n",
       " Parameter containing:\n",
       " tensor([[ 0.3120, -0.1003,  0.1688,  0.1702],\n",
       "         [-0.3985, -0.1890, -0.0265,  0.1303]], requires_grad=True),\n",
       " Parameter containing:\n",
       " tensor([0.4874, 0.4113], requires_grad=True)]"
      ]
     },
     "execution_count": 20,
     "metadata": {},
     "output_type": "execute_result"
    }
   ],
   "source": [
    "list(model.parameters())"
   ]
  },
  {
   "cell_type": "code",
   "execution_count": 21,
   "metadata": {},
   "outputs": [
    {
     "name": "stdout",
     "output_type": "stream",
     "text": [
      "Batch 0:\n",
      "Input tensor (in_tensor) shape: torch.Size([20, 10])\n",
      "Target tensor shape: torch.Size([20])\n",
      "\n",
      "Batch 1:\n",
      "Input tensor (in_tensor) shape: torch.Size([20, 10])\n",
      "Target tensor shape: torch.Size([20])\n",
      "\n",
      "Batch 2:\n",
      "Input tensor (in_tensor) shape: torch.Size([20, 10])\n",
      "Target tensor shape: torch.Size([20])\n",
      "\n",
      "Batch 3:\n",
      "Input tensor (in_tensor) shape: torch.Size([20, 10])\n",
      "Target tensor shape: torch.Size([20])\n",
      "\n",
      "Batch 4:\n",
      "Input tensor (in_tensor) shape: torch.Size([20, 10])\n",
      "Target tensor shape: torch.Size([20])\n",
      "\n"
     ]
    }
   ],
   "source": [
    "import torch\n",
    "from torch.utils.data import Dataset, DataLoader\n",
    "\n",
    "class RandomTensorDataset(Dataset):\n",
    "    def __init__(self, num_samples=100, input_size=10):\n",
    "        self.num_samples = num_samples\n",
    "        self.input_size = input_size\n",
    "        self.data = torch.randn(num_samples, input_size)\n",
    "        self.targets = torch.randint(0, 2, (num_samples,))\n",
    "\n",
    "    def __len__(self):\n",
    "        return self.num_samples\n",
    "\n",
    "    def __getitem__(self, index):\n",
    "        return self.data[index], self.targets[index]\n",
    "\n",
    "# Create a custom dataset with 100 samples, each with 10 features\n",
    "random_dataset = RandomTensorDataset(num_samples=100, input_size=10)\n",
    "\n",
    "# Create a DataLoader with a batch size of 20\n",
    "dummy_loader = DataLoader(random_dataset, batch_size=20, shuffle=True)\n",
    "\n",
    "# Loop through the DataLoader\n",
    "for batch_idx, (in_tensor, target) in enumerate(dummy_loader):\n",
    "    print(f\"Batch {batch_idx}:\")\n",
    "    print(f\"Input tensor (in_tensor) shape: {in_tensor.shape}\")\n",
    "    print(f\"Target tensor shape: {target.shape}\")\n",
    "    print()\n"
   ]
  },
  {
   "cell_type": "code",
   "execution_count": null,
   "metadata": {},
   "outputs": [],
   "source": []
  }
 ],
 "metadata": {
  "kernelspec": {
   "display_name": "base",
   "language": "python",
   "name": "python3"
  },
  "language_info": {
   "codemirror_mode": {
    "name": "ipython",
    "version": 3
   },
   "file_extension": ".py",
   "mimetype": "text/x-python",
   "name": "python",
   "nbconvert_exporter": "python",
   "pygments_lexer": "ipython3",
   "version": "3.9.13"
  },
  "orig_nbformat": 4
 },
 "nbformat": 4,
 "nbformat_minor": 2
}
